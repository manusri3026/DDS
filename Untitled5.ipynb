{
  "nbformat": 4,
  "nbformat_minor": 0,
  "metadata": {
    "colab": {
      "provenance": [],
      "authorship_tag": "ABX9TyOhk+L+Xh/BsdUehT8UIv/T",
      "include_colab_link": true
    },
    "kernelspec": {
      "name": "python3",
      "display_name": "Python 3"
    },
    "language_info": {
      "name": "python"
    }
  },
  "cells": [
    {
      "cell_type": "markdown",
      "metadata": {
        "id": "view-in-github",
        "colab_type": "text"
      },
      "source": [
        "<a href=\"https://colab.research.google.com/github/manusri3026/DDS/blob/main/Untitled5.ipynb\" target=\"_parent\"><img src=\"https://colab.research.google.com/assets/colab-badge.svg\" alt=\"Open In Colab\"/></a>"
      ]
    },
    {
      "cell_type": "code",
      "execution_count": 9,
      "metadata": {
        "colab": {
          "base_uri": "https://localhost:8080/"
        },
        "id": "CqmN6SehalQz",
        "outputId": "be7ff899-c7e4-40d7-a52d-4294b8296839"
      },
      "outputs": [
        {
          "output_type": "stream",
          "name": "stdout",
          "text": [
            "Writing lab4_hanoi.cpp\n"
          ]
        }
      ],
      "source": [
        "%%writefile lab4_hanoi.cpp\n",
        "#include <iostream>\n",
        "using namespace std;\n",
        "\n",
        "void hanoi(int n, char source, char destination, char auxillary) {\n",
        "  if (n==1) {\n",
        "    cout << \"Move disk 1 from \" << source << \" to \" << destination << endl;\n",
        "    return;\n",
        "  }\n",
        "  hanoi(n-1, source, auxillary, destination);\n",
        "  cout << \"Move disk\" << n << \"from\" << source << \"to\" << destination << endl;\n",
        "  hanoi(n-1,auxillary, destination, source);\n",
        "}\n",
        "\n",
        "int main() {\n",
        "  int n = 3;\n",
        "  cout << \"Tower of hanoi (c++) - steps for\" << n << \"disk:\" << endl << endl;\n",
        "  hanoi(n, 'A', 'C', 'B');\n",
        "  return 0;\n",
        "  }\n"
      ]
    },
    {
      "cell_type": "code",
      "source": [
        "!g++ lab4_hanoi.cpp"
      ],
      "metadata": {
        "id": "rf-v0HokdPZc"
      },
      "execution_count": 10,
      "outputs": []
    },
    {
      "cell_type": "code",
      "source": [
        "!./a.out"
      ],
      "metadata": {
        "colab": {
          "base_uri": "https://localhost:8080/"
        },
        "id": "nLostgbvdVqo",
        "outputId": "4c7db327-0bd1-4c35-fb64-e418e3a2548f"
      },
      "execution_count": 11,
      "outputs": [
        {
          "output_type": "stream",
          "name": "stdout",
          "text": [
            "Tower of hanoi (c++) - steps for3disk:\n",
            "\n",
            "Move disk 1 from A to C\n",
            "Move disk2fromAtoB\n",
            "Move disk 1 from C to B\n",
            "Move disk3fromAtoC\n",
            "Move disk 1 from B to A\n",
            "Move disk2fromBtoC\n",
            "Move disk 1 from A to C\n"
          ]
        }
      ]
    }
  ]
}